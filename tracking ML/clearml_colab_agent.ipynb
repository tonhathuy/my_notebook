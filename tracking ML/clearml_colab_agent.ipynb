{
  "nbformat": 4,
  "nbformat_minor": 0,
  "metadata": {
    "colab": {
      "name": "clearml_colab_agent.ipynb",
      "provenance": [],
      "collapsed_sections": [],
      "toc_visible": true
    },
    "kernelspec": {
      "name": "python3",
      "display_name": "Python 3"
    },
    "language_info": {
      "name": "python"
    }
  },
  "cells": [
    {
      "cell_type": "markdown",
      "metadata": {
        "id": "mC3A4rio6Y--"
      },
      "source": [
        "# Google Colab Used to Launch ClearML Agent\n"
      ]
    },
    {
      "cell_type": "markdown",
      "metadata": {
        "id": "EPYjmFLy1zuC"
      },
      "source": [
        "## Step 1: Install all necessary packages"
      ]
    },
    {
      "cell_type": "code",
      "metadata": {
        "id": "DwFC3fL8JAP3",
        "outputId": "2047f797-6c72-4792-c045-f06588dcb368",
        "colab": {
          "base_uri": "https://localhost:8080/",
          "height": 1000
        }
      },
      "source": [
        "!pip install clearml\n",
        "!pip install clearml-agent"
      ],
      "execution_count": 1,
      "outputs": [
        {
          "output_type": "stream",
          "name": "stdout",
          "text": [
            "Collecting clearml\n",
            "  Downloading clearml-1.1.2-py2.py3-none-any.whl (1.0 MB)\n",
            "\u001b[K     |████████████████████████████████| 1.0 MB 2.8 MB/s \n",
            "\u001b[?25hRequirement already satisfied: numpy>=1.10 in /usr/local/lib/python3.7/dist-packages (from clearml) (1.19.5)\n",
            "Collecting pathlib2>=2.3.0\n",
            "  Downloading pathlib2-2.3.6-py2.py3-none-any.whl (17 kB)\n",
            "Requirement already satisfied: jsonschema>=2.6.0 in /usr/local/lib/python3.7/dist-packages (from clearml) (2.6.0)\n",
            "Requirement already satisfied: pyparsing>=2.0.3 in /usr/local/lib/python3.7/dist-packages (from clearml) (2.4.7)\n",
            "Requirement already satisfied: PyYAML>=3.12 in /usr/local/lib/python3.7/dist-packages (from clearml) (3.13)\n",
            "Requirement already satisfied: Pillow>=4.1.1 in /usr/local/lib/python3.7/dist-packages (from clearml) (7.1.2)\n",
            "Requirement already satisfied: requests>=2.20.0 in /usr/local/lib/python3.7/dist-packages (from clearml) (2.23.0)\n",
            "Requirement already satisfied: psutil>=3.4.2 in /usr/local/lib/python3.7/dist-packages (from clearml) (5.4.8)\n",
            "Requirement already satisfied: six>=1.11.0 in /usr/local/lib/python3.7/dist-packages (from clearml) (1.15.0)\n",
            "Requirement already satisfied: attrs>=18.0 in /usr/local/lib/python3.7/dist-packages (from clearml) (21.2.0)\n",
            "Collecting pyjwt<2.2.0,>=1.6.4\n",
            "  Downloading PyJWT-2.1.0-py3-none-any.whl (16 kB)\n",
            "Collecting furl>=2.0.0\n",
            "  Downloading furl-2.1.3-py2.py3-none-any.whl (20 kB)\n",
            "Requirement already satisfied: urllib3>=1.21.1 in /usr/local/lib/python3.7/dist-packages (from clearml) (1.24.3)\n",
            "Requirement already satisfied: python-dateutil>=2.6.1 in /usr/local/lib/python3.7/dist-packages (from clearml) (2.8.2)\n",
            "Requirement already satisfied: future>=0.16.0 in /usr/local/lib/python3.7/dist-packages (from clearml) (0.16.0)\n",
            "Collecting orderedmultidict>=1.0.1\n",
            "  Downloading orderedmultidict-1.0.1-py2.py3-none-any.whl (11 kB)\n",
            "Requirement already satisfied: chardet<4,>=3.0.2 in /usr/local/lib/python3.7/dist-packages (from requests>=2.20.0->clearml) (3.0.4)\n",
            "Requirement already satisfied: certifi>=2017.4.17 in /usr/local/lib/python3.7/dist-packages (from requests>=2.20.0->clearml) (2021.5.30)\n",
            "Requirement already satisfied: idna<3,>=2.5 in /usr/local/lib/python3.7/dist-packages (from requests>=2.20.0->clearml) (2.10)\n",
            "Installing collected packages: orderedmultidict, pyjwt, pathlib2, furl, clearml\n",
            "Successfully installed clearml-1.1.2 furl-2.1.3 orderedmultidict-1.0.1 pathlib2-2.3.6 pyjwt-2.1.0\n",
            "Collecting clearml-agent\n",
            "  Downloading clearml_agent-1.1.0-py3-none-any.whl (358 kB)\n",
            "\u001b[K     |████████████████████████████████| 358 kB 2.8 MB/s \n",
            "\u001b[?25hRequirement already satisfied: python-dateutil<2.9.0,>=2.4.2 in /usr/local/lib/python3.7/dist-packages (from clearml-agent) (2.8.2)\n",
            "Requirement already satisfied: pathlib2<2.4.0,>=2.3.0 in /usr/local/lib/python3.7/dist-packages (from clearml-agent) (2.3.6)\n",
            "Collecting attrs<20.4.0,>=18.0\n",
            "  Downloading attrs-20.3.0-py2.py3-none-any.whl (49 kB)\n",
            "\u001b[K     |████████████████████████████████| 49 kB 5.2 MB/s \n",
            "\u001b[?25hRequirement already satisfied: jsonschema<3.3.0,>=2.6.0 in /usr/local/lib/python3.7/dist-packages (from clearml-agent) (2.6.0)\n",
            "Requirement already satisfied: psutil<5.9.0,>=3.4.2 in /usr/local/lib/python3.7/dist-packages (from clearml-agent) (5.4.8)\n",
            "Collecting pyjwt<2.1.0,>=1.6.4\n",
            "  Downloading PyJWT-2.0.1-py3-none-any.whl (15 kB)\n",
            "Collecting virtualenv<21,>=16\n",
            "  Downloading virtualenv-20.8.1-py2.py3-none-any.whl (5.3 MB)\n",
            "\u001b[K     |████████████████████████████████| 5.3 MB 47.5 MB/s \n",
            "\u001b[?25hRequirement already satisfied: furl<2.2.0,>=2.0.0 in /usr/local/lib/python3.7/dist-packages (from clearml-agent) (2.1.3)\n",
            "Requirement already satisfied: future<0.19.0,>=0.16.0 in /usr/local/lib/python3.7/dist-packages (from clearml-agent) (0.16.0)\n",
            "Requirement already satisfied: requests<2.26.0,>=2.20.0 in /usr/local/lib/python3.7/dist-packages (from clearml-agent) (2.23.0)\n",
            "Collecting pyhocon<0.4.0,>=0.3.38\n",
            "  Downloading pyhocon-0.3.58.tar.gz (114 kB)\n",
            "\u001b[K     |████████████████████████████████| 114 kB 52.2 MB/s \n",
            "\u001b[?25hRequirement already satisfied: PyYAML<5.5.0,>=3.12 in /usr/local/lib/python3.7/dist-packages (from clearml-agent) (3.13)\n",
            "Requirement already satisfied: six<1.16.0,>=1.11.0 in /usr/local/lib/python3.7/dist-packages (from clearml-agent) (1.15.0)\n",
            "Requirement already satisfied: urllib3<1.27.0,>=1.21.1 in /usr/local/lib/python3.7/dist-packages (from clearml-agent) (1.24.3)\n",
            "Requirement already satisfied: pyparsing<2.5.0,>=2.0.3 in /usr/local/lib/python3.7/dist-packages (from clearml-agent) (2.4.7)\n",
            "Collecting typing<3.8.0,>=3.6.4\n",
            "  Downloading typing-3.7.4.3.tar.gz (78 kB)\n",
            "\u001b[K     |████████████████████████████████| 78 kB 6.7 MB/s \n",
            "\u001b[?25hRequirement already satisfied: orderedmultidict>=1.0.1 in /usr/local/lib/python3.7/dist-packages (from furl<2.2.0,>=2.0.0->clearml-agent) (1.0.1)\n",
            "Requirement already satisfied: chardet<4,>=3.0.2 in /usr/local/lib/python3.7/dist-packages (from requests<2.26.0,>=2.20.0->clearml-agent) (3.0.4)\n",
            "Requirement already satisfied: idna<3,>=2.5 in /usr/local/lib/python3.7/dist-packages (from requests<2.26.0,>=2.20.0->clearml-agent) (2.10)\n",
            "Requirement already satisfied: certifi>=2017.4.17 in /usr/local/lib/python3.7/dist-packages (from requests<2.26.0,>=2.20.0->clearml-agent) (2021.5.30)\n",
            "Collecting distlib<1,>=0.3.1\n",
            "  Downloading distlib-0.3.3-py2.py3-none-any.whl (496 kB)\n",
            "\u001b[K     |████████████████████████████████| 496 kB 23.7 MB/s \n",
            "\u001b[?25hCollecting platformdirs<3,>=2\n",
            "  Downloading platformdirs-2.4.0-py3-none-any.whl (14 kB)\n",
            "Collecting backports.entry-points-selectable>=1.0.4\n",
            "  Downloading backports.entry_points_selectable-1.1.0-py2.py3-none-any.whl (6.2 kB)\n",
            "Requirement already satisfied: filelock<4,>=3.0.0 in /usr/local/lib/python3.7/dist-packages (from virtualenv<21,>=16->clearml-agent) (3.3.0)\n",
            "Requirement already satisfied: importlib-metadata>=0.12 in /usr/local/lib/python3.7/dist-packages (from virtualenv<21,>=16->clearml-agent) (4.8.1)\n",
            "Requirement already satisfied: typing-extensions>=3.6.4 in /usr/local/lib/python3.7/dist-packages (from importlib-metadata>=0.12->virtualenv<21,>=16->clearml-agent) (3.7.4.3)\n",
            "Requirement already satisfied: zipp>=0.5 in /usr/local/lib/python3.7/dist-packages (from importlib-metadata>=0.12->virtualenv<21,>=16->clearml-agent) (3.6.0)\n",
            "Building wheels for collected packages: pyhocon, typing\n",
            "  Building wheel for pyhocon (setup.py) ... \u001b[?25l\u001b[?25hdone\n",
            "  Created wheel for pyhocon: filename=pyhocon-0.3.58-py3-none-any.whl size=19890 sha256=c14ba1e385c179cd9d1df17f4ff747acf4e79f53ab972b127679d3fbe39f7607\n",
            "  Stored in directory: /root/.cache/pip/wheels/cb/20/f9/ff360765ce6f9fc078d6599c10a8f36496e5b5011a29df1ae3\n",
            "  Building wheel for typing (setup.py) ... \u001b[?25l\u001b[?25hdone\n",
            "  Created wheel for typing: filename=typing-3.7.4.3-py3-none-any.whl size=26324 sha256=a0256993ddbbb23d08a15e477634a20078cbfd0bfe7ed3beb3b1980b9be682ca\n",
            "  Stored in directory: /root/.cache/pip/wheels/35/f3/15/01aa6571f0a72ee6ae7b827c1491c37a1f72d686fd22b43b0e\n",
            "Successfully built pyhocon typing\n",
            "Installing collected packages: platformdirs, distlib, backports.entry-points-selectable, virtualenv, typing, pyjwt, pyhocon, attrs, clearml-agent\n",
            "  Attempting uninstall: pyjwt\n",
            "    Found existing installation: PyJWT 2.1.0\n",
            "    Uninstalling PyJWT-2.1.0:\n",
            "      Successfully uninstalled PyJWT-2.1.0\n",
            "  Attempting uninstall: attrs\n",
            "    Found existing installation: attrs 21.2.0\n",
            "    Uninstalling attrs-21.2.0:\n",
            "      Successfully uninstalled attrs-21.2.0\n",
            "\u001b[31mERROR: pip's dependency resolver does not currently take into account all the packages that are installed. This behaviour is the source of the following dependency conflicts.\n",
            "datascience 0.10.6 requires folium==0.2.1, but you have folium 0.8.3 which is incompatible.\u001b[0m\n",
            "Successfully installed attrs-20.3.0 backports.entry-points-selectable-1.1.0 clearml-agent-1.1.0 distlib-0.3.3 platformdirs-2.4.0 pyhocon-0.3.58 pyjwt-2.0.1 typing-3.7.4.3 virtualenv-20.8.1\n"
          ]
        },
        {
          "output_type": "display_data",
          "data": {
            "application/vnd.colab-display-data+json": {
              "pip_warning": {
                "packages": [
                  "typing"
                ]
              }
            }
          },
          "metadata": {}
        }
      ]
    },
    {
      "cell_type": "markdown",
      "metadata": {
        "id": "gb41kM8i1-7T"
      },
      "source": [
        "## Step 2: Export this environment variable\n",
        "\n",
        "This environment variable makes Matplotlib work in headless mode, so it won't output graphs to the screen"
      ]
    },
    {
      "cell_type": "code",
      "metadata": {
        "id": "3-Bm4811VMLK"
      },
      "source": [
        "! export MPLBACKEND=TkAg\n"
      ],
      "execution_count": 2,
      "outputs": []
    },
    {
      "cell_type": "markdown",
      "metadata": {
        "id": "chuUzBaU2NyB"
      },
      "source": [
        "## Step 3: Create new credentials: \n",
        "1. Go to your [ClearML WebApp **Profile**](https://app.community.clear.ml/profile). \n",
        "1. Under the **WORKSPACES** section, go to **App Credentials**, and click **+ Create new credentials**\n",
        "1. Copy your credentials"
      ]
    },
    {
      "cell_type": "markdown",
      "metadata": {
        "id": "1Kloxwfj0Vnq"
      },
      "source": [
        "## Step 4: Set your ClearML Credentials\n",
        "\n",
        "Insert the credentials you created in Step 3. \n",
        "\n",
        "If you aren't using the ClearML hosted server, make sure to modify the server variables. "
      ]
    },
    {
      "cell_type": "code",
      "metadata": {
        "id": "YBPdmP4sJHnQ"
      },
      "source": [
        "#@title Insert your own Credentials\n",
        "\n",
        "from clearml import Task\n",
        "\n",
        "web_server = 'https://app.community.clear.ml'#@param {type:\"string\"}  \n",
        "api_server = 'https://api.community.clear.ml'#@param {type:\"string\"} \n",
        "files_server = 'https://files.community.clear.ml'#@param {type:\"string\"}\n",
        "access_key = ''#@param {type:\"string\"}\n",
        "secret_key = ''#@param {type:\"string\"}\n",
        "\n",
        "Task.set_credentials(web_host=web_server,\n",
        "                     api_host=api_server,\n",
        "                     files_host=files_server,\n",
        "                     key=access_key,\n",
        "                     secret=secret_key\n",
        "                     )\n",
        "  \n"
      ],
      "execution_count": 3,
      "outputs": []
    },
    {
      "cell_type": "code",
      "metadata": {
        "id": "DStY3iZnRpYb"
      },
      "source": [
        ""
      ],
      "execution_count": null,
      "outputs": []
    },
    {
      "cell_type": "markdown",
      "metadata": {
        "id": "Er3HUBty4m7i"
      },
      "source": [
        "## Step 4: Run clearml-agent"
      ]
    },
    {
      "cell_type": "code",
      "metadata": {
        "id": "QcczeU7OJ9G-",
        "outputId": "f6e5f7ad-936c-4e71-b86d-1176debd1c61",
        "colab": {
          "base_uri": "https://localhost:8080/"
        }
      },
      "source": [
        "!clearml-agent daemon --queue default"
      ],
      "execution_count": 4,
      "outputs": [
        {
          "output_type": "stream",
          "name": "stdout",
          "text": [
            "Using built-in ClearML default key/secret\n",
            "\n",
            "clearml_agent: ERROR: Failed getting token (error 401 from https://api.community.clear.ml): Unauthorized (not authorized for endpoint) (no permissions for this service)\n",
            "\n"
          ]
        }
      ]
    }
  ]
}